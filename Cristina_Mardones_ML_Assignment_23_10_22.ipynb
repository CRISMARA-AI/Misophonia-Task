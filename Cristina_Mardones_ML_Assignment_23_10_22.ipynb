{
  "nbformat": 4,
  "nbformat_minor": 0,
  "metadata": {
    "colab": {
      "provenance": [],
      "authorship_tag": "ABX9TyM+/mI0UUv9KUZh6sw+CG5y",
      "include_colab_link": true
    },
    "kernelspec": {
      "name": "python3",
      "display_name": "Python 3"
    },
    "language_info": {
      "name": "python"
    }
  },
  "cells": [
    {
      "cell_type": "markdown",
      "metadata": {
        "id": "view-in-github",
        "colab_type": "text"
      },
      "source": [
        "<a href=\"https://colab.research.google.com/github/CRISMARA-AI/Misophonia-Task/blob/main/Cristina_Mardones_ML_Assignment_23_10_22.ipynb\" target=\"_parent\"><img src=\"https://colab.research.google.com/assets/colab-badge.svg\" alt=\"Open In Colab\"/></a>"
      ]
    },
    {
      "cell_type": "code",
      "execution_count": 1,
      "metadata": {
        "id": "NC6SIPlS9dTE"
      },
      "outputs": [],
      "source": [
        "import numpy as np\n",
        "import torch\n",
        "from torch import nn\n",
        "import matplotlib.pyplot as plt #for unexpected output in exercise 2.1"
      ]
    },
    {
      "cell_type": "markdown",
      "source": [
        "**Exercise 1: Implement a function that computes the forward pass for the fixed weights `w` and bias `b` provided below:**"
      ],
      "metadata": {
        "id": "QHt4Lh129u0e"
      }
    },
    {
      "cell_type": "code",
      "source": [
        "# Fix weight matrix for better comparison\n",
        "w = np.arange(32*10).reshape(10, 32)\n",
        "# Fix bias\n",
        "b = np.arange(10)\n",
        "print(f\"fix weights: {w}\")\n",
        "print(f\"fix bias: {b}\")"
      ],
      "metadata": {
        "colab": {
          "base_uri": "https://localhost:8080/"
        },
        "id": "3jYevPhC9reL",
        "outputId": "2b8e0351-7f1c-4be9-c9f3-231fd7b095fc"
      },
      "execution_count": 2,
      "outputs": [
        {
          "output_type": "stream",
          "name": "stdout",
          "text": [
            "fix weights: [[  0   1   2   3   4   5   6   7   8   9  10  11  12  13  14  15  16  17\n",
            "   18  19  20  21  22  23  24  25  26  27  28  29  30  31]\n",
            " [ 32  33  34  35  36  37  38  39  40  41  42  43  44  45  46  47  48  49\n",
            "   50  51  52  53  54  55  56  57  58  59  60  61  62  63]\n",
            " [ 64  65  66  67  68  69  70  71  72  73  74  75  76  77  78  79  80  81\n",
            "   82  83  84  85  86  87  88  89  90  91  92  93  94  95]\n",
            " [ 96  97  98  99 100 101 102 103 104 105 106 107 108 109 110 111 112 113\n",
            "  114 115 116 117 118 119 120 121 122 123 124 125 126 127]\n",
            " [128 129 130 131 132 133 134 135 136 137 138 139 140 141 142 143 144 145\n",
            "  146 147 148 149 150 151 152 153 154 155 156 157 158 159]\n",
            " [160 161 162 163 164 165 166 167 168 169 170 171 172 173 174 175 176 177\n",
            "  178 179 180 181 182 183 184 185 186 187 188 189 190 191]\n",
            " [192 193 194 195 196 197 198 199 200 201 202 203 204 205 206 207 208 209\n",
            "  210 211 212 213 214 215 216 217 218 219 220 221 222 223]\n",
            " [224 225 226 227 228 229 230 231 232 233 234 235 236 237 238 239 240 241\n",
            "  242 243 244 245 246 247 248 249 250 251 252 253 254 255]\n",
            " [256 257 258 259 260 261 262 263 264 265 266 267 268 269 270 271 272 273\n",
            "  274 275 276 277 278 279 280 281 282 283 284 285 286 287]\n",
            " [288 289 290 291 292 293 294 295 296 297 298 299 300 301 302 303 304 305\n",
            "  306 307 308 309 310 311 312 313 314 315 316 317 318 319]]\n",
            "fix bias: [0 1 2 3 4 5 6 7 8 9]\n"
          ]
        }
      ]
    },
    {
      "cell_type": "markdown",
      "source": [
        "**For comparison:**"
      ],
      "metadata": {
        "id": "4JIwwede94O5"
      }
    },
    {
      "cell_type": "code",
      "source": [
        "def func_ex1(x):\n",
        "    \"\"\"\n",
        "    This function performs the task of exercise 1\n",
        "    You can use it to test whether \n",
        "    \"\"\"\n",
        "    # Creating a linear layer with pytorch\n",
        "    linear = torch.nn.Linear(32, 10)\n",
        "    # This is a bit ugly because a) you are not supposed to set the weights fixed from outside,\n",
        "    # and b) because we convert numpy arrays to pytorch tensors with the correct dtype\n",
        "    linear.bias = nn.Parameter(torch.tensor(b, dtype=torch.float))\n",
        "    linear.weight = nn.Parameter(torch.tensor(w, dtype=torch.float))\n",
        "    relu = torch.nn.ReLU()\n",
        "\n",
        "    # Processing input\n",
        "    x = x[np.newaxis] # Need to create dummy dimension for batch_size; alternative: reshape, or fancy indexing: x=x[None]\n",
        "    x = torch.tensor(x, dtype=torch.float)\n",
        "    z = linear(x)\n",
        "    a = relu(z)\n",
        "    return a"
      ],
      "metadata": {
        "id": "xKMmGp9x9zqC"
      },
      "execution_count": 3,
      "outputs": []
    },
    {
      "cell_type": "code",
      "source": [
        "x = np.random.rand(32)\n",
        "\n",
        "func_ex1(x)"
      ],
      "metadata": {
        "colab": {
          "base_uri": "https://localhost:8080/"
        },
        "id": "reHPhWnU9-qH",
        "outputId": "41e204be-70bf-49ef-9dfb-11c610f02257"
      },
      "execution_count": 4,
      "outputs": [
        {
          "output_type": "execute_result",
          "data": {
            "text/plain": [
              "tensor([[ 221.3307,  719.6135, 1217.8962, 1716.1791, 2214.4619, 2712.7446,\n",
              "         3211.0276, 3709.3103, 4207.5933, 4705.8760]], grad_fn=<ReluBackward0>)"
            ]
          },
          "metadata": {},
          "execution_count": 4
        }
      ]
    },
    {
      "cell_type": "code",
      "source": [
        "#Beginning of Answer for exercise 1.1\n",
        "#defining x\n",
        "def relu(x):\n",
        "    return np.maximum(0.0, x)"
      ],
      "metadata": {
        "id": "wbJ65G1o-Fwv"
      },
      "execution_count": 5,
      "outputs": []
    },
    {
      "cell_type": "code",
      "source": [
        "#applying matrix multiplication and activation function\n",
        "def ny_exl_funt(x_input, weight_matrix, bias_vector):\n",
        "  #matrix multiplication between w and x with b added to it\n",
        "  z = np.matmul(weight_matrix,x_input) + bias_vector\n",
        "  #applying the activation function\n",
        "  a = relu(z)\n",
        "  return a\n"
      ],
      "metadata": {
        "id": "1kSRWaEK-JiN"
      },
      "execution_count": 6,
      "outputs": []
    },
    {
      "cell_type": "code",
      "source": [
        "#comparing results succesfully\n",
        "a = ny_exl_funt(x, w, b)\n",
        "print(a)"
      ],
      "metadata": {
        "colab": {
          "base_uri": "https://localhost:8080/"
        },
        "id": "xOc-G2Gg-Owa",
        "outputId": "3a9e0593-334a-4e0e-bd02-792818f8634e"
      },
      "execution_count": 8,
      "outputs": [
        {
          "output_type": "stream",
          "name": "stdout",
          "text": [
            "[ 221.33065821  719.61346945 1217.89628068 1716.17909192 2214.46190316\n",
            " 2712.74471439 3211.02752563 3709.31033686 4207.5931481  4705.87595934]\n"
          ]
        }
      ]
    },
    {
      "cell_type": "markdown",
      "source": [
        "**Ex1.2: Combine the function of Ex. 1 multiple times with 3 fixed weight matrices of your choosing. Be careful to make sure that input and output dimensions match for all of them.**"
      ],
      "metadata": {
        "id": "rP20ieHP-Z6d"
      }
    },
    {
      "cell_type": "code",
      "source": [
        "#Answer: reshaping weights according to new values. After trying many values, >10<, I could not get better matches than 10 as a value\n",
        "x = np.random.rand(32)\n",
        "\n",
        "# 3 fixed weights: \n",
        "w1 = np.arange(10*32).reshape(10,32)\n",
        "b1 = np.arange(10)\n",
        "w2 = np.arange(10*10).reshape(10,10)\n",
        "b2 = np.arange(10)\n",
        "w3 = np.arange(10*10).reshape(10,10)\n",
        "b3 = np.arange(10)"
      ],
      "metadata": {
        "id": "qRV4A80e-fOX"
      },
      "execution_count": 9,
      "outputs": []
    },
    {
      "cell_type": "code",
      "source": [
        "x1 = np.dot(w1, x) + b1\n",
        "a1 = relu(x1)\n",
        "\n",
        "x2 = np.dot(w2, a1) + b2\n",
        "a2 = relu(x2)\n",
        "\n",
        "x3 = np.dot(w3, a2) + b3\n",
        "a3 = relu(x3)\n",
        "\n",
        "a3"
      ],
      "metadata": {
        "colab": {
          "base_uri": "https://localhost:8080/"
        },
        "id": "sGHwKv47-oOQ",
        "outputId": "defed19a-5f9b-498c-c291-bd750354c0a2"
      },
      "execution_count": 10,
      "outputs": [
        {
          "output_type": "execute_result",
          "data": {
            "text/plain": [
              "array([8.66135410e+07, 2.28306387e+08, 3.69999232e+08, 5.11692078e+08,\n",
              "       6.53384923e+08, 7.95077769e+08, 9.36770614e+08, 1.07846346e+09,\n",
              "       1.22015630e+09, 1.36184915e+09])"
            ]
          },
          "metadata": {},
          "execution_count": 10
        }
      ]
    },
    {
      "cell_type": "markdown",
      "source": [
        "**Ex2.1: Implement a function that performs the convolutional layer forward pass for 1 fixed filter w and for the given input x. Use stride 1 and no padding.**"
      ],
      "metadata": {
        "id": "4Z7w0YOm-vFP"
      }
    },
    {
      "cell_type": "code",
      "source": [
        "x = np.arange(20) # some input\n",
        "w = np.array([1,0,1])"
      ],
      "metadata": {
        "id": "SNKay_CC-wz6"
      },
      "execution_count": 11,
      "outputs": []
    },
    {
      "cell_type": "code",
      "source": [
        "def calculation(slice_previous,w):\n",
        "  value = np.dot(slice_previous,w)\n",
        "  return value"
      ],
      "metadata": {
        "id": "OKAxVze7-4lP"
      },
      "execution_count": 12,
      "outputs": []
    },
    {
      "cell_type": "code",
      "source": [
        "z=[]\n",
        "for i in range(len(x) - 2):\n",
        "  slice_start = i\n",
        "  slice_end = i + (len(w))\n",
        "  slice = (slice_start,slice_end)\n",
        "\n",
        "  slice_previous = x[slice_start:slice_end]\n",
        "  num = calculation(slice_previous,w)\n",
        "  z.append(num)"
      ],
      "metadata": {
        "id": "4CdP7qlX--yg"
      },
      "execution_count": 13,
      "outputs": []
    },
    {
      "cell_type": "code",
      "source": [
        "print(z)"
      ],
      "metadata": {
        "colab": {
          "base_uri": "https://localhost:8080/"
        },
        "id": "8C_i960e_B-x",
        "outputId": "3d40d858-022e-4010-c80c-ee361e7c7dd6"
      },
      "execution_count": 15,
      "outputs": [
        {
          "output_type": "stream",
          "name": "stdout",
          "text": [
            "[2, 4, 6, 8, 10, 12, 14, 16, 18, 20, 22, 24, 26, 28, 30, 32, 34, 36]\n"
          ]
        }
      ]
    },
    {
      "cell_type": "code",
      "source": [
        "#Unexpected Output, plotting the function:"
      ],
      "metadata": {
        "id": "LS3Oi6wX_GaR"
      },
      "execution_count": 16,
      "outputs": []
    },
    {
      "cell_type": "code",
      "source": [
        "fig, axarr = plt.subplots(1,2)\n",
        "axarr[1].set_title('z')\n",
        "axarr[1].imshow(z[0,:,:,0])"
      ],
      "metadata": {
        "colab": {
          "base_uri": "https://localhost:8080/",
          "height": 286
        },
        "id": "fyqfntY0_IEe",
        "outputId": "4b5f46a4-3775-4f5d-eb02-f18164cc3dff"
      },
      "execution_count": 82,
      "outputs": [
        {
          "output_type": "execute_result",
          "data": {
            "text/plain": [
              "<matplotlib.image.AxesImage at 0x7fcb2f6153d0>"
            ]
          },
          "metadata": {},
          "execution_count": 82
        },
        {
          "output_type": "display_data",
          "data": {
            "text/plain": [
              "<Figure size 432x288 with 2 Axes>"
            ],
            "image/png": "[encoded data removed]"
          },
          "metadata": {
            "needs_background": "light"
          }
        }
      ]
    },
    {
      "cell_type": "markdown",
      "source": [
        "**Ex2.2: Generalize the above function to handle multiple filters**"
      ],
      "metadata": {
        "id": "vLeuOdYODqQD"
      }
    },
    {
      "cell_type": "code",
      "source": [
        "x = np.arange(20) # some input\n",
        "w1 = np.array([1,0,1])\n",
        "w2 = np.array([1,2,3])\n",
        "w3 = np.array([5,6,7])\n",
        "\n",
        "#Adding different weights\n",
        "w4 = np.array([8,9,9])\n",
        "w5 = np.array([1,1,1])"
      ],
      "metadata": {
        "id": "Q3cxCsl4Dn5c"
      },
      "execution_count": 83,
      "outputs": []
    },
    {
      "cell_type": "code",
      "source": [
        "#defining function from stride 2\n",
        "stride = 2\n",
        "\n",
        "def convolution(x,z,w):\n",
        "  z=[]\n",
        "  for i in range(len(x) - (2*stride)):\n",
        "    if i == 0: \n",
        "      slice_start = i  \n",
        "    else: \n",
        "      slice_start = i + stride\n",
        "    if i == 0: \n",
        "      slice_end = i  + (len(w))\n",
        "    else: \n",
        "      slice_end = i + stride + (len(w))\n",
        "    slice = (slice_start,slice_end)\n",
        "\n",
        "    slice_previous = x[slice_start:slice_end]\n",
        "    num = calculation(slice_previous,w)\n",
        "    z.append(num)\n",
        "\n",
        "  return z"
      ],
      "metadata": {
        "id": "NL3vcI6kD0l4"
      },
      "execution_count": 84,
      "outputs": []
    },
    {
      "cell_type": "code",
      "source": [
        "convolution(x,z,w1)"
      ],
      "metadata": {
        "colab": {
          "base_uri": "https://localhost:8080/"
        },
        "id": "onGS9_JzD7oU",
        "outputId": "70c92689-7ed6-410a-a7b3-126ef5a55cc6"
      },
      "execution_count": 86,
      "outputs": [
        {
          "output_type": "execute_result",
          "data": {
            "text/plain": [
              "[2, 8, 10, 12, 14, 16, 18, 20, 22, 24, 26, 28, 30, 32, 34, 36]"
            ]
          },
          "metadata": {},
          "execution_count": 86
        }
      ]
    },
    {
      "cell_type": "code",
      "source": [
        "convolution(x,z,w2)"
      ],
      "metadata": {
        "colab": {
          "base_uri": "https://localhost:8080/"
        },
        "id": "Xv7LDdWVD_f2",
        "outputId": "a4ac12ac-5a9a-4f82-f1f5-a571baf86548"
      },
      "execution_count": 87,
      "outputs": [
        {
          "output_type": "execute_result",
          "data": {
            "text/plain": [
              "[8, 26, 32, 38, 44, 50, 56, 62, 68, 74, 80, 86, 92, 98, 104, 110]"
            ]
          },
          "metadata": {},
          "execution_count": 87
        }
      ]
    },
    {
      "cell_type": "code",
      "source": [
        "convolution(x,z,w3)"
      ],
      "metadata": {
        "colab": {
          "base_uri": "https://localhost:8080/"
        },
        "id": "WtINHk78EBfk",
        "outputId": "4d76afc5-ed57-4142-8adf-4623b04e89e9"
      },
      "execution_count": 88,
      "outputs": [
        {
          "output_type": "execute_result",
          "data": {
            "text/plain": [
              "[20, 74, 92, 110, 128, 146, 164, 182, 200, 218, 236, 254, 272, 290, 308, 326]"
            ]
          },
          "metadata": {},
          "execution_count": 88
        }
      ]
    },
    {
      "cell_type": "code",
      "source": [
        "#Defining convolutions for new weights (w4, w5)"
      ],
      "metadata": {
        "id": "mnFUT-xuD32K"
      },
      "execution_count": 85,
      "outputs": []
    },
    {
      "cell_type": "code",
      "source": [
        "convolution(x,z,w4)"
      ],
      "metadata": {
        "colab": {
          "base_uri": "https://localhost:8080/"
        },
        "id": "nffZRNwND6bV",
        "outputId": "e161c113-1864-429b-dad1-b2e5f9b82d6d"
      },
      "execution_count": 89,
      "outputs": [
        {
          "output_type": "execute_result",
          "data": {
            "text/plain": [
              "[27, 105, 131, 157, 183, 209, 235, 261, 287, 313, 339, 365, 391, 417, 443, 469]"
            ]
          },
          "metadata": {},
          "execution_count": 89
        }
      ]
    },
    {
      "cell_type": "code",
      "source": [
        "convolution(x,z,w5)"
      ],
      "metadata": {
        "colab": {
          "base_uri": "https://localhost:8080/"
        },
        "id": "2U1_lziTEEzv",
        "outputId": "41dd2c6e-c5fa-4417-bd7b-7a04af265c40"
      },
      "execution_count": 90,
      "outputs": [
        {
          "output_type": "execute_result",
          "data": {
            "text/plain": [
              "[3, 12, 15, 18, 21, 24, 27, 30, 33, 36, 39, 42, 45, 48, 51, 54]"
            ]
          },
          "metadata": {},
          "execution_count": 90
        }
      ]
    },
    {
      "cell_type": "markdown",
      "source": [
        "**Ex2.3: Generalize the above function to handle variable padding and stride. Test it for stride 2 and padding 2.**"
      ],
      "metadata": {
        "id": "H-U8IoPNEHO2"
      }
    },
    {
      "cell_type": "code",
      "source": [
        "x = np.arange(20) # some input\n",
        "w1 = np.array([1,0,1])\n",
        "w2 = np.array([1,2,3])\n",
        "w3 = np.array([5,6,7])"
      ],
      "metadata": {
        "id": "puuPXC8yENYY"
      },
      "execution_count": 91,
      "outputs": []
    },
    {
      "cell_type": "code",
      "source": [
        "# Setting up condition padding=2\n",
        "x = np.pad(x, 2)"
      ],
      "metadata": {
        "id": "tn6wYedTEQzV"
      },
      "execution_count": 92,
      "outputs": []
    },
    {
      "cell_type": "code",
      "source": [
        "#repeating function from exercise 2.2, from stride 2\n",
        "stride = 2\n",
        "\n",
        "def convolution(x,z,w):\n",
        "  z=[]\n",
        "  for i in range(len(x) - (2*stride)):\n",
        "    if i == 0: \n",
        "      slice_start = i  \n",
        "    else: \n",
        "      slice_start = i + stride\n",
        "    if i == 0: \n",
        "      slice_end = i  + (len(w))\n",
        "    else: \n",
        "      slice_end = i + stride + (len(w))\n",
        "    slice = (slice_start,slice_end)\n",
        "\n",
        "    slice_previous = x[slice_start:slice_end]\n",
        "    num = calculation(slice_previous,w)\n",
        "    z.append(num)\n",
        "\n",
        "  return z"
      ],
      "metadata": {
        "id": "WW-NnwX9EV_w"
      },
      "execution_count": 102,
      "outputs": []
    },
    {
      "cell_type": "code",
      "source": [
        "#tests with w1, w2,w3"
      ],
      "metadata": {
        "id": "9RXe7zALFSW5"
      },
      "execution_count": 114,
      "outputs": []
    },
    {
      "cell_type": "code",
      "source": [
        "convolution(x,z,w1)"
      ],
      "metadata": {
        "colab": {
          "base_uri": "https://localhost:8080/"
        },
        "id": "3RJsJSgWEaIb",
        "outputId": "17cdf9fe-6269-475a-883f-74979e193e21"
      },
      "execution_count": 113,
      "outputs": [
        {
          "output_type": "execute_result",
          "data": {
            "text/plain": [
              "[0, 4, 6, 8, 10, 12, 14, 16, 18, 20, 22, 24, 26, 28, 30, 32, 34, 36, 18, 19]"
            ]
          },
          "metadata": {},
          "execution_count": 113
        }
      ]
    },
    {
      "cell_type": "code",
      "source": [
        "convolution(x,z,w2) ##I do not know why it changed into vertical##"
      ],
      "metadata": {
        "colab": {
          "base_uri": "https://localhost:8080/"
        },
        "id": "j7yRWopVEdWe",
        "outputId": "fd2188c4-7cd2-49d2-f784-de194d928944"
      },
      "execution_count": 117,
      "outputs": [
        {
          "output_type": "execute_result",
          "data": {
            "text/plain": [
              "[0,\n",
              " 14,\n",
              " 20,\n",
              " 26,\n",
              " 32,\n",
              " 38,\n",
              " 44,\n",
              " 50,\n",
              " 56,\n",
              " 62,\n",
              " 68,\n",
              " 74,\n",
              " 80,\n",
              " 86,\n",
              " 92,\n",
              " 98,\n",
              " 104,\n",
              " 110,\n",
              " 56,\n",
              " 19]"
            ]
          },
          "metadata": {},
          "execution_count": 117
        }
      ]
    },
    {
      "cell_type": "code",
      "source": [
        "convolution(x,z,w3)"
      ],
      "metadata": {
        "colab": {
          "base_uri": "https://localhost:8080/"
        },
        "id": "ReP7pfsPErDO",
        "outputId": "9227344d-93b3-4f3c-95a4-116575cf6c6d"
      },
      "execution_count": 112,
      "outputs": [
        {
          "output_type": "execute_result",
          "data": {
            "text/plain": [
              "[0,\n",
              " 38,\n",
              " 56,\n",
              " 74,\n",
              " 92,\n",
              " 110,\n",
              " 128,\n",
              " 146,\n",
              " 164,\n",
              " 182,\n",
              " 200,\n",
              " 218,\n",
              " 236,\n",
              " 254,\n",
              " 272,\n",
              " 290,\n",
              " 308,\n",
              " 326,\n",
              " 204,\n",
              " 95]"
            ]
          },
          "metadata": {},
          "execution_count": 112
        }
      ]
    }
  ]
}